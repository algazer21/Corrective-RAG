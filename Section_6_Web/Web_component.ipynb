{
 "cells": [
  {
   "cell_type": "markdown",
   "metadata": {},
   "source": [
    "## Building a Retrieval-Augmented Generation (RAG) System\n",
    "#### Alan García Zermeño\n",
    "06/13/2024"
   ]
  },
  {
   "cell_type": "markdown",
   "metadata": {},
   "source": [
    "### Section 6: Expanding the RAG System to the Internet\n",
    "#### This section includes:\n",
    "- Code snippets for integrating internet retrieval into the RAG system.\n",
    "- Examples of questions, the retrieved information from the web, and the\n",
    "corresponding generated answers.\n",
    "- A brief report on the methods used to evaluate and ensure the quality of the\n",
    "internet-sourced information."
   ]
  },
  {
   "cell_type": "code",
   "execution_count": 1,
   "metadata": {},
   "outputs": [
    {
     "name": "stderr",
     "output_type": "stream",
     "text": [
      "[nltk_data] Downloading package punkt to /home/alan/nltk_data...\n",
      "[nltk_data]   Package punkt is already up-to-date!\n"
     ]
    }
   ],
   "source": [
    "from openai import OpenAI\n",
    "import textwrap\n",
    "import http.client\n",
    "import json\n",
    "import sys\n",
    "import os\n",
    "\n",
    "# Import script modules\n",
    "sys.path.append(os.path.abspath(os.path.join(os.getcwd(), '../Scripts')))\n",
    "from datacleaner import data_cleaner\n",
    "from RetrievalSystemWeb import evaluator, generGemini, CRAG"
   ]
  },
  {
   "cell_type": "markdown",
   "metadata": {},
   "source": [
    "The best method to improve the retrieve system is to add web search when the database dont have an specific answer to a query. First we are going call the data cleaner."
   ]
  },
  {
   "cell_type": "code",
   "execution_count": 2,
   "metadata": {},
   "outputs": [
    {
     "name": "stdout",
     "output_type": "stream",
     "text": [
      "49 Question/Answer pairs extracted!\n"
     ]
    }
   ],
   "source": [
    "corpus,_,answers = data_cleaner()"
   ]
  },
  {
   "cell_type": "markdown",
   "metadata": {},
   "source": [
    "To make web queries we will use a cheap version of Google search API: Serper. We will need the following:\n",
    "- We will need an API key, so you can get one in: https://serper.dev/api-key.\n",
    "- Then, save it in the 'serper.txt' file in the APIS directory. \n",
    "- **Please only paste the API key**."
   ]
  },
  {
   "cell_type": "markdown",
   "metadata": {},
   "source": [
    "The strategy will be to make a web query once the function that evaluates our query determines that there is not enough information in the database to accurately answer our query. Once this occurs, the process will be as follows:\n",
    "\n",
    "- **Processing**: We will ask Gemini to analyze our query and extract up to four words that describe our question in a format suitable for web search. For example: \"*The best football players of 2023*\" --> \"*best football players 2023*\"\n",
    "\n",
    "- **Query**: This summarized query will be used to call the server API, which will return some useful URLs and snippets.\n",
    "\n",
    "- **Extraction**: We will use JSON to extract all the snippets and concatenate them into a corpus.\n",
    "\n",
    "- **Summarization**: Gemini will summarize the corpus into a couple of sentences to answer the query as concretely as possible.\n",
    "\n",
    "- **Generation**: This summarized query will serve as context for generating the final response by GPT."
   ]
  },
  {
   "cell_type": "markdown",
   "metadata": {},
   "source": [
    "First, we will call the evaluator using our corpus and our query. It will return a boolean value boo = False if there is no need for a web query, and it will return the context found in the database. It will return boo = True if the evaluator determines that there is not enough information in the database. In this case, the context will be the query itself, which will serve to initiate the web search."
   ]
  },
  {
   "cell_type": "code",
   "execution_count": 3,
   "metadata": {},
   "outputs": [
    {
     "name": "stdout",
     "output_type": "stream",
     "text": [
      "Does the following document have exact information to answer the following query?\n",
      "    Please choose one of the two possible options: Yes, or No.\n",
      "    \n",
      "\n",
      "        Question: What is Keytruda?\n",
      "\n",
      "        Document: Keytruda is administered as an intravenous infusion over 30 minutes.\n",
      "\n",
      "        Evaluation: [Select one: Yes, No]:\n",
      "No\n"
     ]
    }
   ],
   "source": [
    "query = \"What is Keytruda?\"\n",
    "context,boo = evaluator(query,corpus,answers)"
   ]
  },
  {
   "cell_type": "markdown",
   "metadata": {},
   "source": [
    "In this scenario, we require a web search, so we will design the web query with the help of Gemini."
   ]
  },
  {
   "cell_type": "code",
   "execution_count": 4,
   "metadata": {},
   "outputs": [
    {
     "name": "stdout",
     "output_type": "stream",
     "text": [
      "Web Query: Keytruda definition\n"
     ]
    }
   ],
   "source": [
    "promptQ = \"Summarize this query to a maximum of 4 words to perform an internet search: \\nQuery: \"\n",
    "queryW = generGemini(promptQ+context)\n",
    "print(f\"Web Query: {queryW}\")"
   ]
  },
  {
   "cell_type": "markdown",
   "metadata": {},
   "source": [
    "Next, we perform the query by calling the API with our key."
   ]
  },
  {
   "cell_type": "code",
   "execution_count": 10,
   "metadata": {},
   "outputs": [
    {
     "data": {
      "text/plain": [
       "<http.client.HTTPResponse at 0x717b1efb75e0>"
      ]
     },
     "execution_count": 10,
     "metadata": {},
     "output_type": "execute_result"
    }
   ],
   "source": [
    "with open(\"../APIS/serper.txt\", 'r') as file: apiw = file.readline().strip()\n",
    "conn = http.client.HTTPSConnection(\"google.serper.dev\")\n",
    "payload = json.dumps({\"q\": queryW})\n",
    "headers = {'X-API-KEY': apiw,'Content-Type': 'application/json'}\n",
    "conn.request(\"POST\", \"/search\", payload, headers)\n",
    "res = conn.getresponse()\n",
    "res"
   ]
  },
  {
   "cell_type": "markdown",
   "metadata": {},
   "source": [
    "Then, we extract the snippets using json"
   ]
  },
  {
   "cell_type": "code",
   "execution_count": 12,
   "metadata": {},
   "outputs": [
    {
     "name": "stdout",
     "output_type": "stream",
     "text": [
      " KEYTRUDA is a prescription medicine used to treat a kind of cancer\n",
      "called head and neck squamous cell cancer (HNSCC). KEYTRUDA may be\n",
      "used with the chemotherapy ... KEYTRUDA, as a single agent, is in ...\n"
     ]
    }
   ],
   "source": [
    "data = res.read()\n",
    "response_dict = json.loads(data.decode(\"utf-8\"))\n",
    "\n",
    "webCorpus = \"\"\n",
    "for sni in response_dict['organic']:\n",
    "    webCorpus += \" \"+sni['snippet']\n",
    "    \n",
    "print(textwrap.fill(webCorpus[:200])+\" ...\")"
   ]
  },
  {
   "cell_type": "markdown",
   "metadata": {},
   "source": [
    "This big information block is going to be summarized by Gemini."
   ]
  },
  {
   "cell_type": "code",
   "execution_count": 8,
   "metadata": {},
   "outputs": [
    {
     "name": "stdout",
     "output_type": "stream",
     "text": [
      "Keytruda, a type of immunotherapy, is a prescription medicine used to\n",
      "treat different types of cancers, including cervical cancer, head and\n",
      "neck squamous cell carcinoma, and other types. It is administered\n",
      "through intravenous infusion over 30 minutes.\n"
     ]
    }
   ],
   "source": [
    "promptZ = f\"Summarize this corpus to a maximum of 2 sentences to try to answer ONLY this query: \\nCorpus: {webCorpus} \\nQuery: {query} \\nResponse: \"\n",
    "response = generGemini(promptZ)\n",
    "print(textwrap.fill(response))"
   ]
  },
  {
   "cell_type": "markdown",
   "metadata": {},
   "source": [
    "The final step is to use this response as context for the final GPT response to our query."
   ]
  },
  {
   "cell_type": "code",
   "execution_count": 9,
   "metadata": {},
   "outputs": [
    {
     "name": "stdout",
     "output_type": "stream",
     "text": [
      "IMPORTANT: This information is not extracted from the official database\n",
      "\n",
      "\n",
      "GPT RESPONSE:\n",
      "Keytruda is a brand name for the drug pembrolizumab, which is a type\n",
      "of immunotherapy medication used to treat cancer. It works by helping\n",
      "the immune system identify and attack cancer cells. Keytruda is\n",
      "approved for various types of cancers, including melanoma, non-small\n",
      "cell lung cancer, head and neck cancer, and more. It is typically\n",
      "prescribed by a healthcare provider and administered through infusion\n",
      "or injection.\n"
     ]
    }
   ],
   "source": [
    "#Define model and prompt\n",
    "with open(\"../APIS/gpt.txt\", 'r') as file: apik = file.readline().strip()\n",
    "client = OpenAI(api_key = apik)\n",
    "model = \"gpt-3.5-turbo\"\n",
    "\n",
    "\n",
    "print(\"IMPORTANT: This information is not extracted from the official database\")\n",
    "\n",
    "prompt = f\"\"\"\n",
    "    Please generate an informative and concise response to the following query.\n",
    "    Use the provided context information to ensure your response is accurate and relevant.\n",
    "\n",
    "    Context: {context}\n",
    "    \"\"\"\n",
    "\n",
    "completion = client.chat.completions.create(\n",
    "                model=model,\n",
    "                messages=[\n",
    "                {\"role\": \"system\", \"content\": prompt},\n",
    "                {\"role\": \"user\", \"content\": query}\n",
    "                ],\n",
    "                max_tokens=120\n",
    "            )\n",
    "print(\"\\n\\nGPT RESPONSE:\")\n",
    "print(textwrap.fill(completion.choices[0].message.content))"
   ]
  },
  {
   "cell_type": "markdown",
   "metadata": {},
   "source": [
    "### Adding Security"
   ]
  },
  {
   "cell_type": "markdown",
   "metadata": {},
   "source": [
    "Data on the internet is not always reliable. Various strategies can be employed to maintain the reliability of responses. Among these, we could use a model with fine-tuning on real data to serve as a filter to avoid false information. However, the simplest approach is to use only trustworthy websites. In this case, we could compile a list of trusted URLs, such as \"keytruda.com,\" to extract snippets solely from that domain. We would simply need to modify the extraction code slightly:"
   ]
  },
  {
   "cell_type": "code",
   "execution_count": 13,
   "metadata": {},
   "outputs": [
    {
     "name": "stdout",
     "output_type": "stream",
     "text": [
      " KEYTRUDA is a prescription medicine used to treat a kind of cancer\n",
      "called head and neck squamous cell cancer (HNSCC). KEYTRUDA may be\n",
      "used with the chemotherapy ...\n"
     ]
    }
   ],
   "source": [
    "secureURLs = ['keytruda.com']                           #list of trusted URLs\n",
    "webSecureCorpus = \"\"\n",
    "for sni in response_dict['organic']:\n",
    "    for urls in secureURLs:\n",
    "        if urls in sni[\"link\"]:\n",
    "            webSecureCorpus += \" \"+sni['snippet']\n",
    "    \n",
    "print(textwrap.fill(webSecureCorpus))"
   ]
  },
  {
   "cell_type": "markdown",
   "metadata": {},
   "source": [
    "The complete script CRAG() was programmed in the \"RetrievalSystemWeb.py\" file, and we can easily call it by passing it our query, our corpus, our responses and the list of websites with which we want to search for information if the evaluation model requires it."
   ]
  },
  {
   "cell_type": "code",
   "execution_count": 3,
   "metadata": {},
   "outputs": [
    {
     "name": "stdout",
     "output_type": "stream",
     "text": [
      "Does the following document have exact information to answer the following query?\n",
      "    Please choose one of the two possible options: Yes, or No.\n",
      "    \n",
      "\n",
      "        Question: What is Keytruda?\n",
      "\n",
      "        Document: Keytruda is administered as an intravenous infusion over 30 minutes.\n",
      "\n",
      "        Evaluation: [Select one: Yes, No]:\n",
      "No\n",
      "IMPORTANT: This information is not extracted from the official database\n",
      "Web Query: Keytruda definition\n",
      " KEYTRUDA is a type of immunotherapy that works by blocking the PD-1\n",
      "pathway to help prevent cancer cells from hiding. KEYTRUDA helps the\n",
      "immune system do ...\n",
      "\n",
      "\n",
      "GPT RESPONSE:\n",
      "Keytruda is an immunotherapy drug that works by blocking the PD-1\n",
      "pathway, a mechanism that cancer cells use to evade detection by the\n",
      "immune system. By blocking this pathway, Keytruda helps the immune\n",
      "system recognize and attack cancer cells more effectively. It is used\n",
      "in the treatment of various types of cancer, such as melanoma, lung\n",
      "cancer, and head and neck cancer.\n"
     ]
    }
   ],
   "source": [
    "query = \"What is Keytruda?\"\n",
    "CRAG(\n",
    "    query = query,\n",
    "    corpus = corpus,\n",
    "    answers = answers,\n",
    "    safeURLs = ['keytruda.com']\n",
    "    )"
   ]
  },
  {
   "cell_type": "markdown",
   "metadata": {},
   "source": [
    "The following is an example where the evaluator model found pertinent information in the database and didnt perform a search web. "
   ]
  },
  {
   "cell_type": "code",
   "execution_count": 4,
   "metadata": {},
   "outputs": [
    {
     "name": "stdout",
     "output_type": "stream",
     "text": [
      "Does the following document have exact information to answer the following query?\n",
      "    Please choose one of the two possible options: Yes, or No.\n",
      "    \n",
      "\n",
      "        Question: What are Keytruda side effects?\n",
      "\n",
      "        Document: Common side effects include fatigue, nausea, and skin rash.\n",
      "\n",
      "        Evaluation: [Select one: Yes, No]:\n",
      "Yes\n",
      "\n",
      "\n",
      "GPT RESPONSE:\n",
      "Keytruda is a medication used in immunotherapy to treat certain types\n",
      "of cancers. Some common side effects of Keytruda include fatigue,\n",
      "nausea, and skin rash. It is important to speak with your healthcare\n",
      "provider about any potential side effects and how to manage them\n",
      "effectively. Other possible side effects may include diarrhea,\n",
      "decreased appetite, fever, and muscle pain. Severe side effects are\n",
      "less common but can include immune-related reactions that affect the\n",
      "skin, lungs, liver, and other organs. It is essential to report any\n",
      "concerning symptoms to your healthcare provider promptly.\n"
     ]
    }
   ],
   "source": [
    "query = \"What are Keytruda side effects?\"\n",
    "CRAG(\n",
    "    query = query,\n",
    "    corpus = corpus,\n",
    "    answers = answers,\n",
    "    safeURLs = ['keytruda.com']\n",
    "    )"
   ]
  },
  {
   "cell_type": "markdown",
   "metadata": {},
   "source": [
    "The following are examples where the evaluator model didnt found pertinent information in the database and did perform a search web."
   ]
  },
  {
   "cell_type": "code",
   "execution_count": 7,
   "metadata": {},
   "outputs": [
    {
     "name": "stdout",
     "output_type": "stream",
     "text": [
      "Does the following document have exact information to answer the following query?\n",
      "    Please choose one of the two possible options: Yes, or No.\n",
      "    \n",
      "\n",
      "        Question: Who invented keytruda?\n",
      "\n",
      "        Document: Keytruda is administered as an intravenous infusion over 30 minutes.\n",
      "\n",
      "        Evaluation: [Select one: Yes, No]:\n",
      "No\n",
      "IMPORTANT: This information is not extracted from the official database\n",
      "Web Query: Inventor of Keytruda\n",
      " Pembrolizumab, sold under the brand name Keytruda, is a humanized\n",
      "antibody used in cancer immunotherapy that treats melanoma, lung\n",
      "cancer, head and neck cancer, ...\n",
      "\n",
      "\n",
      "GPT RESPONSE:\n",
      "Keytruda, also known as pembrolizumab, was developed by the\n",
      "pharmaceutical company Merck & Co., Inc. It was approved by the Food\n",
      "and Drug Administration (FDA) in 2014 for the treatment of advanced\n",
      "melanoma.\n"
     ]
    }
   ],
   "source": [
    "query = \"Who invented keytruda?\"\n",
    "CRAG(\n",
    "    query = query,\n",
    "    corpus = corpus,\n",
    "    answers = answers,\n",
    "    safeURLs = ['keytruda.com','wikipedia']\n",
    "    )"
   ]
  },
  {
   "cell_type": "code",
   "execution_count": 4,
   "metadata": {},
   "outputs": [
    {
     "name": "stdout",
     "output_type": "stream",
     "text": [
      "Does the following document have exact information to answer the following query?\n",
      "    Please choose one of the two possible options: Yes, or No.\n",
      "    \n",
      "\n",
      "        Question: keytruda and chemotherapy are the same?\n",
      "\n",
      "        Document:  Yes, Keytruda demonstrated superior efficacy in terms of overall survival and progression-free survival compared to chemotherapy in NSCLC patients.\n",
      "\n",
      "        Evaluation: [Select one: Yes, No]:\n",
      "Yes\n",
      "\n",
      "\n",
      "GPT RESPONSE:\n",
      "No, Keytruda (pembrolizumab) and chemotherapy are not the same.\n",
      "Keytruda is an immunotherapy drug that works by targeting and blocking\n",
      "the PD-1/PD-L1 pathway, thereby boosting the immune system to fight\n",
      "cancer cells. On the other hand, chemotherapy involves using drugs\n",
      "that directly kill rapidly dividing cancer cells but can also affect\n",
      "normal cells. In studies, Keytruda has demonstrated superior efficacy\n",
      "in terms of overall survival and progression-free survival compared to\n",
      "chemotherapy in patients with non-small cell lung cancer (NSCLC).\n"
     ]
    }
   ],
   "source": [
    "query = \"keytruda and chemotherapy are the same?\"\n",
    "CRAG(\n",
    "    query = query,\n",
    "    corpus = corpus,\n",
    "    answers = answers,\n",
    "    safeURLs = ['keytruda.com','wikipedia'],\n",
    "    printp = True\n",
    "    )"
   ]
  },
  {
   "cell_type": "markdown",
   "metadata": {},
   "source": [
    "This last example is very important, since the base document retriever system found an answer that responds affirmatively to our query: \"Is keytruda and chemo the same?\", however, our evaluator model detects that it is not an appropriate answer to our question and send to the web search. Finally, GPT clearly explains the difference between chemo and keytruda to us by taking information from secure websites."
   ]
  }
 ],
 "metadata": {
  "kernelspec": {
   "display_name": ".venv",
   "language": "python",
   "name": "python3"
  },
  "language_info": {
   "codemirror_mode": {
    "name": "ipython",
    "version": 3
   },
   "file_extension": ".py",
   "mimetype": "text/x-python",
   "name": "python",
   "nbconvert_exporter": "python",
   "pygments_lexer": "ipython3",
   "version": "3.10.12"
  }
 },
 "nbformat": 4,
 "nbformat_minor": 2
}
